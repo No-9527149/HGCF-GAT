{
 "cells": [
  {
   "cell_type": "code",
   "execution_count": 1,
   "metadata": {},
   "outputs": [],
   "source": [
    "import numpy as np\n",
    "import scipy.sparse as sp\n",
    "import pickle as pkl"
   ]
  },
  {
   "cell_type": "code",
   "execution_count": 4,
   "metadata": {},
   "outputs": [
    {
     "name": "stdout",
     "output_type": "stream",
     "text": [
      "(71135, 45063) 1861118\n"
     ]
    }
   ],
   "source": [
    "with open(\"data/yelp/user_item_list.pkl\", 'rb') as f:\n",
    "    user_item_list = pkl.load(f, encoding='latin1')\n",
    "\n",
    "num_users = len(user_item_list)\n",
    "num_items = max([max(user) for user in user_item_list]) + 1\n",
    "\n",
    "rows = []\n",
    "cols = []\n",
    "for i, items in enumerate(user_item_list):\n",
    "    for item in items:\n",
    "        rows.append(i)\n",
    "        cols.append(item)\n",
    "vals = np.ones(len(rows), dtype=np.float32)\n",
    "mat = sp.coo_matrix((vals, (rows, cols)), shape=(num_users, num_items))\n",
    "\n",
    "print(mat.shape, mat.nnz)"
   ]
  }
 ],
 "metadata": {
  "kernelspec": {
   "display_name": "torch-gpu",
   "language": "python",
   "name": "python3"
  },
  "language_info": {
   "codemirror_mode": {
    "name": "ipython",
    "version": 3
   },
   "file_extension": ".py",
   "mimetype": "text/x-python",
   "name": "python",
   "nbconvert_exporter": "python",
   "pygments_lexer": "ipython3",
   "version": "3.8.13"
  },
  "orig_nbformat": 4
 },
 "nbformat": 4,
 "nbformat_minor": 2
}
